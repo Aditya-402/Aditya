{
  "nbformat": 4,
  "nbformat_minor": 0,
  "metadata": {
    "colab": {
      "name": "Video2Frames.ipynb",
      "provenance": [],
      "collapsed_sections": []
    },
    "kernelspec": {
      "name": "python3",
      "display_name": "Python 3"
    },
    "accelerator": "GPU"
  },
  "cells": [
    {
      "cell_type": "markdown",
      "metadata": {
        "id": "wRuwLDvv6_OO",
        "colab_type": "text"
      },
      "source": [
        "Mount the goole drive"
      ]
    },
    {
      "cell_type": "code",
      "metadata": {
        "id": "Ii748yS5h_RG",
        "colab_type": "code",
        "colab": {}
      },
      "source": [
        "from google.colab import drive\n",
        "drive.mount('/content/drive/')"
      ],
      "execution_count": 0,
      "outputs": []
    },
    {
      "cell_type": "markdown",
      "metadata": {
        "id": "2VdX5wgm7Ex0",
        "colab_type": "text"
      },
      "source": [
        "Creating a directory for dataset"
      ]
    },
    {
      "cell_type": "code",
      "metadata": {
        "id": "WcckrAC3g60G",
        "colab_type": "code",
        "colab": {}
      },
      "source": [
        "%cd /content/drive/My\\ Drive/\n",
        "!mkdir SportsDataset\n",
        "%cd SportsDataset"
      ],
      "execution_count": 0,
      "outputs": []
    },
    {
      "cell_type": "markdown",
      "metadata": {
        "id": "o1gGb7Vq7QPr",
        "colab_type": "text"
      },
      "source": [
        "Installing the missing libraries "
      ]
    },
    {
      "cell_type": "code",
      "metadata": {
        "id": "PiPLjIb56p8T",
        "colab_type": "code",
        "colab": {}
      },
      "source": [
        "!pip install pafy\n",
        "!pip install imutils pafy youtube-dl"
      ],
      "execution_count": 0,
      "outputs": []
    },
    {
      "cell_type": "markdown",
      "metadata": {
        "id": "jUfKbeBZ7cd7",
        "colab_type": "text"
      },
      "source": [
        "Importing the required libraries"
      ]
    },
    {
      "cell_type": "code",
      "metadata": {
        "id": "pfvx1TxdtLLK",
        "colab_type": "code",
        "colab": {}
      },
      "source": [
        "import imutils\n",
        "import cv2\n",
        "import pafy"
      ],
      "execution_count": 0,
      "outputs": []
    },
    {
      "cell_type": "markdown",
      "metadata": {
        "id": "gb6aP4yG7eXd",
        "colab_type": "text"
      },
      "source": [
        "Getting a handle to Youtube video "
      ]
    },
    {
      "cell_type": "code",
      "metadata": {
        "id": "Jq_ye79dtU3a",
        "colab_type": "code",
        "colab": {}
      },
      "source": [
        "url = 'https://youtu.be/xY3wc-aFEYE'\n",
        "video = pafy.new(url)\n",
        "videoStream = video.getbestvideo()\n",
        "vidcap  = cv2.VideoCapture(videoStream.url)"
      ],
      "execution_count": 0,
      "outputs": []
    },
    {
      "cell_type": "markdown",
      "metadata": {
        "id": "wvZkbHWz7oqL",
        "colab_type": "text"
      },
      "source": [
        "A function to save a frame as a image"
      ]
    },
    {
      "cell_type": "code",
      "metadata": {
        "id": "Ua39ONtQvRTx",
        "colab_type": "code",
        "colab": {}
      },
      "source": [
        "def getFrame(time,frameCount):\n",
        "  vidcap.set(cv2.CAP_PROP_POS_MSEC,time)\n",
        "  frameDet, frame = vidcap.read()\n",
        "  if frameDet:\n",
        "    frame = imutils.resize(frame,width=128)\n",
        "    cv2.imwrite(str(frameCount)+\".jpg\", frame)\n",
        "  return frameDet"
      ],
      "execution_count": 0,
      "outputs": []
    },
    {
      "cell_type": "markdown",
      "metadata": {
        "id": "sdJcdk2x7y5D",
        "colab_type": "text"
      },
      "source": [
        "Creating a folder structure as per the project needs"
      ]
    },
    {
      "cell_type": "code",
      "metadata": {
        "id": "AiHJhtbijniW",
        "colab_type": "code",
        "colab": {}
      },
      "source": [
        "!mkdir sport1\n",
        "%cd sport1\n",
        "!mkdir vid1\n",
        "%cd vid1"
      ],
      "execution_count": 0,
      "outputs": []
    },
    {
      "cell_type": "markdown",
      "metadata": {
        "id": "uQ_njejh75KJ",
        "colab_type": "text"
      },
      "source": [
        "logic to call out with time stamps and get frames"
      ]
    },
    {
      "cell_type": "code",
      "metadata": {
        "id": "LAUwtX32uHzJ",
        "colab_type": "code",
        "colab": {}
      },
      "source": [
        "startTime = 0\n",
        "frameRate = 500\n",
        "frameCount = 1\n",
        "h,m,s = video.duration.split(sep=':')\n",
        "endTime = (int(h)*3600 + int(m)*60 +int(s))*1000\n",
        "\n",
        "for time in range(startTime,endTime,frameRate):\n",
        "   frameCount = frameCount + 1   \n",
        "   time = round(time,2)\n",
        "   getFrame(time,frameCount)"
      ],
      "execution_count": 0,
      "outputs": []
    }
  ]
}